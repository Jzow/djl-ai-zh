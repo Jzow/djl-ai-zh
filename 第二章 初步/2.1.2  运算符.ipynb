{
 "cells": [
  {
   "cell_type": "markdown",
   "metadata": {},
   "source": [
    "本书无意于软件工程，我们的兴趣也不仅限于简单地从数组中读取数据或者将数据写入数组中而是希望在数组中进行数学运算，一些最简单又最实用的运算---基础运算。例如，在对数组的成员依次进行标准标量运算；或是在函数中，两个数组作为输入，对它们相对应的成员进行标准二元运算；亦或是我们可以通过任何一个标量映射函数创建一个基础函数。"
   ]
  },
  {
   "cell_type": "markdown",
   "metadata": {},
   "source": [
    "在数学表达中，我们用$f: \\mathbb{R} \\rightarrow \\mathbb{R}$表示一个一元标量运算符。它表示函数f是任意实数$\\mathbb{R}$到另外一个实数集合的映射。同样，我们用$f: \\mathbb{R}，\\mathbb{R} \\rightarrow \\mathbb{R}$表示二元标量运算符（输入两个实数，产生一个输出）。假设此时有任意相同维度的两个向量$\\vec{u}$和$\\vec{v}$，一个二元运算符$f$,我们可以构建一个向量$\\vec{c}=F(\\vec{u}, \\vec{v})$，对于所有$\\vec{i}$写成$\\vec{c}_{i} \\leftarrow f\\left(\\vec{u}_{i}, \\vec{v}_{i}\\right)$，其中$\\vec{c}_{i},\\vec{u}_{i}和\\vec{v}_{i}$是$\\vec{c},\\vec{u}和\\vec{v}$中第$\\vec{i}^{th}$个元素。这里，我们通过将标量函数应用到基础向量运算中创建了向量值 $F: \\mathbb{R}^{d}, \\mathbb{R}^{d} \\rightarrow \\mathbb{R}^{d}$。"
   ]
  },
  {
   "cell_type": "markdown",
   "metadata": {},
   "source": [
    "在DJL中，常见的标准算数运算符（+，—，*，/和**）都被转化基础运算符，可以对任意维度中任何同一维度的张量进行运算。我们可以对任意两个相同维度的张量进行基础运算。在接下来的例子中，我们用逗号构建一个含有5个元素的元组，其中每一个元素都是经过基础运算得到的结果。注意，你需要运用加，减，乘，除以及取余因为Java不支持运算符过载。"
   ]
  },
  {
   "cell_type": "code",
   "execution_count": 10,
   "metadata": {},
   "outputs": [],
   "source": [
    "%mavenRepo snapshots https://oss.sonatype.org/content/repositories/snapshots/\n",
    "\n",
    "%maven ai.djl:api:0.9.0-SNAPSHOT\n",
    "%maven org.slf4j:slf4j-api:1.7.26\n",
    "%maven org.slf4j:slf4j-simple:1.7.26\n",
    "\n",
    "// See https://github.com/awslabs/djl/blob/master/mxnet/mxnet-engine/README.md\n",
    "// for more MXNet library selection options\n",
    "%maven ai.djl.mxnet:mxnet-engine:0.9.0-SNAPSHOT\n",
    "%maven ai.djl.mxnet:mxnet-native-auto:1.7.0-b"
   ]
  },
  {
   "cell_type": "code",
   "execution_count": 11,
   "metadata": {},
   "outputs": [],
   "source": [
    "import ai.djl.Device;\n",
    "import ai.djl.ndarray.*;\n",
    "import ai.djl.ndarray.types.*;\n",
    "import ai.djl.ndarray.index.*;"
   ]
  },
  {
   "cell_type": "code",
   "execution_count": 13,
   "metadata": {},
   "outputs": [
    {
     "name": "stderr",
     "output_type": "stream",
     "text": [
      "[IJava-executor-2] INFO ai.djl.mxnet.jna.LibUtils - Downloading libgcc_s_seh-1.dll ...\n",
      "[IJava-executor-2] INFO ai.djl.mxnet.jna.LibUtils - Downloading libgfortran-3.dll ...\n",
      "[IJava-executor-2] INFO ai.djl.mxnet.jna.LibUtils - Downloading libopenblas.dll ...\n",
      "[IJava-executor-2] INFO ai.djl.mxnet.jna.LibUtils - Downloading libquadmath-0.dll ...\n",
      "[IJava-executor-2] INFO ai.djl.mxnet.jna.LibUtils - Downloading cudnn64_7.dll ...\n",
      "[IJava-executor-2] INFO ai.djl.mxnet.jna.LibUtils - Downloading mxnet.dll ...\n"
     ]
    },
    {
     "data": {
      "text/plain": [
       "ND: (12) gpu(0) int32\r\n",
       "[ 0,  1,  2,  3,  4,  5,  6,  7,  8,  9, 10, 11]\r\n"
      ]
     },
     "execution_count": 13,
     "metadata": {},
     "output_type": "execute_result"
    }
   ],
   "source": [
    "NDManager manager = NDManager.newBaseManager();\n",
    "var x = manager.arange(12);\n",
    "x"
   ]
  },
  {
   "cell_type": "code",
   "execution_count": 14,
   "metadata": {},
   "outputs": [
    {
     "data": {
      "text/plain": [
       "ND: (4) gpu(0) float32\r\n",
       "[ 3.,  4.,  6., 10.]\r\n"
      ]
     },
     "execution_count": 14,
     "metadata": {},
     "output_type": "execute_result"
    }
   ],
   "source": [
    "var x = manager.create(new float[]{1f, 2f, 4f, 8f});\n",
    "var y = manager.create(new float[]{2f, 2f, 2f, 2f});\n",
    "x.add(y);"
   ]
  },
  {
   "cell_type": "code",
   "execution_count": 15,
   "metadata": {},
   "outputs": [
    {
     "data": {
      "text/plain": [
       "ND: (4) gpu(0) float32\r\n",
       "[-1.,  0.,  2.,  6.]\r\n"
      ]
     },
     "execution_count": 15,
     "metadata": {},
     "output_type": "execute_result"
    }
   ],
   "source": [
    "x.sub(y);"
   ]
  },
  {
   "cell_type": "code",
   "execution_count": 16,
   "metadata": {},
   "outputs": [
    {
     "data": {
      "text/plain": [
       "ND: (4) gpu(0) float32\r\n",
       "[ 2.,  4.,  8., 16.]\r\n"
      ]
     },
     "execution_count": 16,
     "metadata": {},
     "output_type": "execute_result"
    }
   ],
   "source": [
    "x.mul(y);"
   ]
  },
  {
   "cell_type": "code",
   "execution_count": 17,
   "metadata": {},
   "outputs": [
    {
     "data": {
      "text/plain": [
       "ND: (4) gpu(0) float32\r\n",
       "[0.5, 1. , 2. , 4. ]\r\n"
      ]
     },
     "execution_count": 17,
     "metadata": {},
     "output_type": "execute_result"
    }
   ],
   "source": [
    "x.div(y);"
   ]
  },
  {
   "cell_type": "code",
   "execution_count": 18,
   "metadata": {},
   "outputs": [
    {
     "data": {
      "text/plain": [
       "ND: (4) gpu(0) float32\r\n",
       "[ 1.,  4., 16., 64.]\r\n"
      ]
     },
     "execution_count": 18,
     "metadata": {},
     "output_type": "execute_result"
    }
   ],
   "source": [
    "x.pow(y);"
   ]
  },
  {
   "cell_type": "code",
   "execution_count": 19,
   "metadata": {},
   "outputs": [
    {
     "data": {
      "text/plain": [
       "ND: (4) gpu(0) float32\r\n",
       "[ 2.71828175e+00,  7.38905621e+00,  5.45981483e+01,  2.98095801e+03]\r\n"
      ]
     },
     "execution_count": 19,
     "metadata": {},
     "output_type": "execute_result"
    }
   ],
   "source": [
    "x.exp()"
   ]
  },
  {
   "cell_type": "markdown",
   "metadata": {},
   "source": [
    "除了基础运算外，我们同样可以进行线性代数运算，包括向量点乘和矩阵相乘。稍后我们会在**sec_linear-algebra**解释线性代数的关键部分（无先学知识）。"
   ]
  },
  {
   "cell_type": "markdown",
   "metadata": {},
   "source": [
    "我们也可以将多个ndarrays *concatenate*联结起来，将它们首位相接地堆叠起来，生成一个更大的ndarray。我们只需要提供一个ndarray的列表然后告诉系统沿着哪个轴进行联结。下面的示例展示了当我们将两个矩阵分别沿0轴（行）和1轴（列）联结将会发生什么。我们可以看到第一种情况将输出ndarray的0轴长度为6，它是通过两个输入ndarray的0轴长度之和（3+3）得到的。与此同时，第二种情况将输出两个输入ndarray的1轴长度之和，4+4=8."
   ]
  },
  {
   "cell_type": "code",
   "execution_count": 20,
   "metadata": {},
   "outputs": [
    {
     "data": {
      "text/plain": [
       "ND: (6, 4) gpu(0) float32\r\n",
       "[[ 0.,  1.,  2.,  3.],\r\n",
       " [ 4.,  5.,  6.,  7.],\r\n",
       " [ 8.,  9., 10., 11.],\r\n",
       " [ 2.,  1.,  4.,  3.],\r\n",
       " [ 1.,  2.,  3.,  4.],\r\n",
       " [ 4.,  3.,  2.,  1.],\r\n",
       "]\r\n"
      ]
     },
     "execution_count": 20,
     "metadata": {},
     "output_type": "execute_result"
    }
   ],
   "source": [
    "x = manager.arange(12f).reshape(3, 4);\n",
    "y = manager.create(new float[]{2, 1, 4, 3, 1, 2, 3, 4, 4, 3, 2, 1}, new Shape(3, 4));\n",
    "x.concat(y) // default axis = 0"
   ]
  },
  {
   "cell_type": "code",
   "execution_count": 21,
   "metadata": {},
   "outputs": [
    {
     "data": {
      "text/plain": [
       "ND: (3, 8) gpu(0) float32\r\n",
       "[[ 0.,  1.,  2.,  3.,  2.,  1.,  4.,  3.],\r\n",
       " [ 4.,  5.,  6.,  7.,  1.,  2.,  3.,  4.],\r\n",
       " [ 8.,  9., 10., 11.,  4.,  3.,  2.,  1.],\r\n",
       "]\r\n"
      ]
     },
     "execution_count": 21,
     "metadata": {},
     "output_type": "execute_result"
    }
   ],
   "source": [
    "x.concat(y, 1)"
   ]
  },
  {
   "cell_type": "markdown",
   "metadata": {},
   "source": [
    "然而有时，我们想通过逻辑声明构建一个二元ndarray。比如，x.eq(y)。对于每一个定位，x和y的数值都相等，那么在相对应的位置上将生成一个新的ndarray，值为**1**，逻辑声明x.eq()表明在此定位为真。反之，此位置则为**0**."
   ]
  },
  {
   "cell_type": "code",
   "execution_count": 22,
   "metadata": {},
   "outputs": [
    {
     "data": {
      "text/plain": [
       "ND: (3, 4) gpu(0) boolean\r\n",
       "[[false,  true, false,  true],\r\n",
       " [false, false, false, false],\r\n",
       " [false, false, false, false],\r\n",
       "]\r\n"
      ]
     },
     "execution_count": 22,
     "metadata": {},
     "output_type": "execute_result"
    }
   ],
   "source": [
    "x.eq(y)"
   ]
  },
  {
   "cell_type": "markdown",
   "metadata": {},
   "source": [
    "对ndarray中的所有元素求和将生成一个只含有一个元素的ndarray。"
   ]
  },
  {
   "cell_type": "code",
   "execution_count": 23,
   "metadata": {},
   "outputs": [
    {
     "data": {
      "text/plain": [
       "ND: () gpu(0) float32\r\n",
       "66.\r\n"
      ]
     },
     "execution_count": 23,
     "metadata": {},
     "output_type": "execute_result"
    }
   ],
   "source": [
    "x.sum()"
   ]
  },
  {
   "cell_type": "markdown",
   "metadata": {},
   "source": [
    "读者可以使用像np.sum(x)的形式调用x.sum()"
   ]
  },
  {
   "cell_type": "code",
   "execution_count": null,
   "metadata": {},
   "outputs": [],
   "source": []
  },
  {
   "cell_type": "code",
   "execution_count": null,
   "metadata": {},
   "outputs": [],
   "source": []
  }
 ],
 "metadata": {
  "kernelspec": {
   "display_name": "Java",
   "language": "java",
   "name": "java"
  },
  "language_info": {
   "codemirror_mode": "java",
   "file_extension": ".jshell",
   "mimetype": "text/x-java-source",
   "name": "Java",
   "pygments_lexer": "java",
   "version": "11.0.9+7-LTS"
  }
 },
 "nbformat": 4,
 "nbformat_minor": 4
}
