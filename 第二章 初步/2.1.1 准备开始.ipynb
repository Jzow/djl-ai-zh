{
 "cells": [
  {
   "cell_type": "markdown",
   "metadata": {},
   "source": [
    "为了开始我们的工作，首先我们需要存储和处理数据。通常，有两个重要的步骤：一，获取数据；二，得到数据后处理数据。如果不能存储数据，那么获取数据将没有意义。让我们从处理合成数据开始吧！首先，我们将介绍一个n-维数组（ndarray）, 它是MXNet用来存储和转换数据的主要工具。在MXNet中，ndarray是一个类，任何示例被称为“an ndarray”。\n",
    "\n",
    "如果您使用过NumPy（Python中使用最广泛的科学计算包），那么您将对此章节非常熟悉。根据我们的设计，NumPy中的ndarray在MXNet中的到了提升和扩展。首先，MXNet的ndarray在CPU, GPU以及分离式云端结构中均支持异步计算，而Numpy只支持CPU。其次，MXNet的ndarray支持自动微分。这项特性使得MXNet非常适合深度学习。在本书中，当提及ndarray，除非特别声明，都意味着是MXNet中的ndarray。\n",
    "\n",
    "2.1.1准备开始\n",
    "\n",
    "在此小节，我们将带您上手，运行代码，为你准备好基础数学以及算数计算工具，使您通过本书步入学习正轨。不用为意会一些数学概念或者库的功能而烦恼。接下来的小结将会回顾在实际范例背景下的素材。另外，如果您已经具备相关背景，想要深入数学概念，请跳过本结。\n",
    "\n",
    "首先，我们要通过api，从Deep Java Library中将mxnet-engine和mxnet-native-auto模块引入到maven中。此处的api模块包括所有高阶JAVA API，它们将被用在数据处理、训练、推理当中。其中，mxnet-engine包括使用Apche MXNet框架的高阶API实现。而mxnet-native-auto模块则包含MXNet自带库中的基础运算操作符和基于C++的函数。"
   ]
  },
  {
   "cell_type": "code",
   "execution_count": null,
   "metadata": {},
   "outputs": [],
   "source": [
    "%mavenRepo snapshots https://oss.sonatype.org/content/repositories/snapshots/\n",
    "\n",
    "%maven ai.djl:api:0.7.0-SNAPSHOT\n",
    "%maven org.slf4j:slf4j-api:1.7.26\n",
    "%maven org.slf4j:slf4j-simple:1.7.26\n",
    "\n",
    "// See https://github.com/awslabs/djl/blob/master/mxnet/mxnet-engine/README.md\n",
    "// for more MXNet library selection options\n",
    "%maven ai.djl.mxnet:mxnet-engine:0.7.0-SNAPSHOT\n",
    "%maven ai.djl.mxnet:mxnet-native-auto:1.7.0-b"
   ]
  },
  {
   "cell_type": "code",
   "execution_count": null,
   "metadata": {},
   "outputs": [],
   "source": []
  }
 ],
 "metadata": {
  "kernelspec": {
   "display_name": "Python 3",
   "language": "python",
   "name": "python3"
  },
  "language_info": {
   "codemirror_mode": {
    "name": "ipython",
    "version": 3
   },
   "file_extension": ".py",
   "mimetype": "text/x-python",
   "name": "python",
   "nbconvert_exporter": "python",
   "pygments_lexer": "ipython3",
   "version": "3.6.9"
  }
 },
 "nbformat": 4,
 "nbformat_minor": 2
}
